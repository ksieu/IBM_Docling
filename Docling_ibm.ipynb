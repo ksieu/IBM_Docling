{
 "cells": [
  {
   "cell_type": "code",
   "execution_count": null,
   "id": "4152b644",
   "metadata": {
    "vscode": {
     "languageId": "plaintext"
    }
   },
   "outputs": [],
   "source": [
    "!pip install -q docling \"huggingface_hub[cli]\""
   ]
  },
  {
   "cell_type": "code",
   "execution_count": null,
   "id": "03025b48",
   "metadata": {
    "vscode": {
     "languageId": "plaintext"
    }
   },
   "outputs": [],
   "source": [
    "import time\n",
    "from docling.document_converter import DocumentConverter\n",
    "\n",
    "\n",
    "converter = DocumentConverter()"
   ]
  },
  {
   "cell_type": "code",
   "execution_count": null,
   "id": "e37f3f2b",
   "metadata": {
    "vscode": {
     "languageId": "plaintext"
    }
   },
   "outputs": [],
   "source": [
    "\n",
    "# This can be a local file path or a URL\n",
    "source = \"https://assets.accessible-digital-documents.com/uploads/2017/01/sample-tables.pdf\"  # The Docling technical paper itself\n",
    "#source = \"https://www.w3.org/WAI/WCAG20/Techniques/working-examples/PDF20/table.pdf\"\n",
    "\n",
    "start_time = time.time()\n",
    "result = converter.convert(source)\n",
    "\n",
    "end_time = time.time()\n",
    "\n",
    "# Export to markdown - clean, structured, beautiful\n",
    "print(result.document.export_to_markdown())\n",
    "\n",
    "print(f\"⏱️ Thời gian chạy: {end_time - start_time:.2f} giây\")\n"
   ]
  }
 ],
 "metadata": {
  "language_info": {
   "name": "python"
  }
 },
 "nbformat": 4,
 "nbformat_minor": 5
}
